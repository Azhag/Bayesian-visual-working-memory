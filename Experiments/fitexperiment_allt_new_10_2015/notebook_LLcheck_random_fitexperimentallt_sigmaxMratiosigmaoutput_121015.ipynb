{
 "cells": [
  {
   "cell_type": "markdown",
   "metadata": {},
   "source": [
    "# Check Loglikelihood model selection behaviour\n",
    "\n",
    "We need to verify if the LL is correlated with the Mixture model summary stats fits. If they are not, something went wrong somewhere, or the parameters are interacting in a weird way that we need to understand...\n",
    "\n",
    "Performed by *generator_LLcheck_random_fitexperimentallt_sigmaxMratiosigmaoutput_121015.py*\n"
   ]
  },
  {
   "cell_type": "code",
   "execution_count": 1,
   "metadata": {
    "collapsed": true
   },
   "outputs": [],
   "source": [
    "%matplotlib inline\n",
    "%load_ext autoreload\n",
    "%autoreload 2"
   ]
  },
  {
   "cell_type": "code",
   "execution_count": 2,
   "metadata": {
    "collapsed": true
   },
   "outputs": [],
   "source": [
    "import os\n",
    "import numpy as np\n",
    "import matplotlib as mpl\n",
    "import matplotlib.pyplot as plt\n",
    "import pandas as pd\n",
    "import seaborn as sns\n",
    "\n",
    "from experimentlauncher import ExperimentLauncher\n",
    "from dataio import DataIO\n",
    "import plots_experimental_data\n",
    "\n",
    "# import matplotlib.animation as plt_anim\n",
    "from mpl_toolkits.mplot3d import Axes3D\n",
    "\n",
    "import re\n",
    "import inspect\n",
    "import imp\n",
    "\n",
    "import utils\n",
    "# import submitpbs\n",
    "import load_experimental_data"
   ]
  },
  {
   "cell_type": "code",
   "execution_count": 4,
   "metadata": {
    "collapsed": false
   },
   "outputs": [
    {
     "name": "stderr",
     "output_type": "stream",
     "text": [
      "ERROR: File `u'reloader_LLcheck_random_fitexperimentallt_sigmaxMratiosigmaoutput_121015.py'` not found.\n"
     ]
    }
   ],
   "source": [
    "%run reloader_LLcheck_random_fitexperimentallt_sigmaxMratiosigmaoutput_121015.py"
   ]
  },
  {
   "cell_type": "code",
   "execution_count": 3,
   "metadata": {
    "collapsed": true
   },
   "outputs": [],
   "source": [
    "#### SETUP\n",
    "#\n",
    "plots_bestfits = True\n",
    "plots_scatter3d = False\n",
    "\n",
    "savefigs = True\n",
    "\n",
    "# dataio = DataIO(output_folder=generator_module.pbs_submission_infos['simul_out_dir'] + '/outputs/', label='global_' + dataset_infos['save_output_filename'])\n",
    "\n",
    "#\n",
    "#### /SETUP"
   ]
  },
  {
   "cell_type": "code",
   "execution_count": null,
   "metadata": {
    "collapsed": true
   },
   "outputs": [],
   "source": []
  }
 ],
 "metadata": {
  "kernelspec": {
   "display_name": "Python 2",
   "language": "python",
   "name": "python2"
  },
  "language_info": {
   "codemirror_mode": {
    "name": "ipython",
    "version": 2
   },
   "file_extension": ".py",
   "mimetype": "text/x-python",
   "name": "python",
   "nbconvert_exporter": "python",
   "pygments_lexer": "ipython2",
   "version": "2.7.10"
  }
 },
 "nbformat": 4,
 "nbformat_minor": 0
}
