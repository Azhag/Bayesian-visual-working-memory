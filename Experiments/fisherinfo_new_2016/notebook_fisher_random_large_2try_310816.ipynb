{
 "cells": [
  {
   "cell_type": "markdown",
   "metadata": {},
   "source": [
    "# Thesis random sweeps - 2Try - Fisher Info characterisation - Fixed noise\n",
    "\n",
    "2/2\n",
    "\n",
    "Same as 1try, but now fixed sigma_x=0.25 and sigma_baseline=0\n",
    "\n",
    "Should give more useful samples for plots"
   ]
  },
  {
   "cell_type": "code",
   "execution_count": 1,
   "metadata": {
    "collapsed": false
   },
   "outputs": [],
   "source": [
    "%matplotlib inline\n",
    "%load_ext autoreload\n",
    "%autoreload 2"
   ]
  },
  {
   "cell_type": "code",
   "execution_count": null,
   "metadata": {
    "collapsed": false
   },
   "outputs": [],
   "source": [
    "import os\n",
    "import numpy as np\n",
    "import scipy as sp\n",
    "import scipy.stats as spst\n",
    "import scipy.interpolate as spint\n",
    "import matplotlib as mpl\n",
    "import matplotlib.pyplot as plt\n",
    "import pandas as pd\n",
    "import seaborn as sns\n",
    "from IPython.utils import io\n",
    "import progress\n",
    "\n",
    "from experimentlauncher import ExperimentLauncher\n",
    "from dataio import DataIO\n",
    "import plots_experimental_data\n",
    "import em_circularmixture_parametrickappa\n",
    "\n",
    "\n",
    "# import matplotlib.animation as plt_anim\n",
    "from mpl_toolkits.mplot3d import Axes3D\n",
    "\n",
    "import re\n",
    "import inspect\n",
    "import imp\n",
    "\n",
    "import utils\n",
    "import load_experimental_data\n",
    "\n",
    "from plots_fitexperiment_papertheo import PlotsFitExperimentAllTPaperTheo"
   ]
  },
  {
   "cell_type": "code",
   "execution_count": null,
   "metadata": {
    "collapsed": false
   },
   "outputs": [],
   "source": [
    "with io.capture_output(display=False, stdout=True) as captured:\n",
    "    %run reloader_fisher2016_random_large_2try_310816.py"
   ]
  },
  {
   "cell_type": "code",
   "execution_count": null,
   "metadata": {
    "collapsed": true
   },
   "outputs": [],
   "source": [
    "def avg_lastaxis(array_name, array):\n",
    "    return [(array_name, utils.nanmean(array, axis=-1))]\n",
    "def avg_twice_lastaxis(array_name, array):\n",
    "    return [(array_name, utils.nanmean(utils.nanmean(array, axis=-1), axis=-1))]\n",
    "\n",
    "def process_fi(array_name, array):\n",
    "    outputs = avg_twice_lastaxis(array_name, array)\n",
    "    outputs.extend(avg_twice_lastaxis(array_name + \"_stddev\", (2./array)**0.5))\n",
    "    return outputs\n",
    "\n",
    "def process_marginal_fi(array_name, array):\n",
    "    # Marginal FI/Inv FI have (mean, std), just keep mean\n",
    "    outputs_all = avg_lastaxis(array_name, array)\n",
    "    \n",
    "    if array_name.find('inv') > -1:\n",
    "        outputs_all.extend(avg_lastaxis(array_name + \"_stddev\", (2.*array)**0.5))\n",
    "    else:\n",
    "        outputs_all.extend(avg_lastaxis(array_name + \"_stddev\", (2./array)**0.5))\n",
    "    \n",
    "    outputs = [(o[0], o[1][:, 0]) for o in outputs_all]\n",
    "    return outputs\n",
    "\n",
    "def process_em_fits(array_name, array):\n",
    "    emfits_all = utils.nanmean(array, axis=-1)\n",
    "    outputs = [(array_name + \"_\" + colname, emfits_all[:, col_i])\n",
    "            for col_i, colname in enumerate(['kappa',\n",
    "                                             'target',\n",
    "                                             'nontargets',\n",
    "                                             'random',\n",
    "                                             'LL',\n",
    "                                             'bic'])\n",
    "              ]\n",
    "    outputs.append((array_name + '_fidelity', 1./utils.kappa_to_stddev(emfits_all[:, 0])**2.))\n",
    "    outputs.append((array_name + '_stddev', utils.kappa_to_stddev(emfits_all[:, 0])))\n",
    "    \n",
    "    return outputs\n",
    "\n",
    "    \n",
    "def construct_pandas_dataframe(data_pbs, pandas_columns_with_processing, num_repetitions):\n",
    "    parameter_names_sorted = data_pbs.dataset_infos['parameters']\n",
    "    filter_data = None\n",
    "    result_parameters_flat = None\n",
    "\n",
    "    pandas_column_data = []\n",
    "\n",
    "    for result_array_name, result_processing in pandas_columns_with_processing:\n",
    "        # Extract data\n",
    "        res_array = np.array(data_pbs.dict_arrays[result_array_name]['results_flat'])\n",
    "\n",
    "        # Filter completed only\n",
    "        if filter_data is None:\n",
    "            repeats_completed = data_pbs.dict_arrays[result_array_name]['repeats_completed']\n",
    "            filter_data = repeats_completed == (num_repetitions - 1)\n",
    "        res_array = res_array[filter_data]\n",
    "\n",
    "        # Keep parameters\n",
    "        if result_parameters_flat is None:\n",
    "            result_parameters_flat = np.array(data_pbs.dict_arrays[result_array_name]['parameters_flat'])\n",
    "            result_parameters_flat = result_parameters_flat[filter_data]\n",
    "\n",
    "        # Transform into list of columns for Pandas\n",
    "        pandas_column_data.extend(result_processing['process'](result_processing['name'], res_array))\n",
    "\n",
    "    # Add all parameters to Pandas columns\n",
    "    for param_i, param_name in enumerate(parameter_names_sorted):\n",
    "        pandas_column_data.append((param_name, result_parameters_flat[:, param_i]))\n",
    "    \n",
    "    df_out = pd.DataFrame.from_items(pandas_column_data)\n",
    "    \n",
    "    # Remove NaN\n",
    "    df_out = df_out.dropna()\n",
    "    \n",
    "    return df_out"
   ]
  },
  {
   "cell_type": "code",
   "execution_count": null,
   "metadata": {
    "collapsed": true
   },
   "outputs": [],
   "source": [
    "def remove_outliers(df, n_stddev=5):\n",
    "    outliers = np.sum(np.abs(spst.zscore(df)) < n_stddev, axis=-1)\n",
    "    return df[outliers >= outliers.max()]"
   ]
  },
  {
   "cell_type": "code",
   "execution_count": null,
   "metadata": {
    "collapsed": true
   },
   "outputs": [],
   "source": [
    "def df_add_quantize_parameters(df, parameters, nQuantiles):\n",
    "    param_qbins = dict()\n",
    "    param_qbins_middle = dict()\n",
    "\n",
    "    for param_name in parameters:\n",
    "        param_factored, param_qbins[param_name] = pd.qcut(df[param_name], nQuantiles, retbins=True, labels=False)\n",
    "        param_qbins_middle[param_name] = ((param_qbins[param_name][:-1] + param_qbins[param_name][1:])/2.\n",
    "                                         ).astype(df[param_name].dtype)\n",
    "        df.loc[:, (param_name + \"_qi\")] = param_factored\n",
    "    \n",
    "    return df, param_qbins, param_qbins_middle"
   ]
  },
  {
   "cell_type": "code",
   "execution_count": null,
   "metadata": {
    "collapsed": true
   },
   "outputs": [],
   "source": [
    "def filter_dataframe(df, parameters_values):\n",
    "    filter_mask = None\n",
    "    for key, value in parameters_values.iteritems():\n",
    "        new_filter = (df[key] == value)\n",
    "        if filter_mask is None:\n",
    "            filter_mask = new_filter\n",
    "        else:\n",
    "            filter_mask = filter_mask & new_filter\n",
    "    \n",
    "    if filter_mask is None:\n",
    "        return df\n",
    "    else:\n",
    "        return df[filter_mask]\n",
    "\n",
    "def filter_quantized_param(df, target_parameters, param_qbins):\n",
    "    quantized_parameters_targets = dict()\n",
    "    \n",
    "    for key, value in target_parameters.iteritems():\n",
    "        target_qi = (np.digitize(value, param_qbins[key], right=False).item() - 1)\n",
    "        quantized_parameters_targets[key + \"_qi\"] = target_qi\n",
    "\n",
    "    return filter_dataframe(df, quantized_parameters_targets)"
   ]
  },
  {
   "cell_type": "code",
   "execution_count": null,
   "metadata": {
    "collapsed": false
   },
   "outputs": [],
   "source": [
    "# Extract data\n",
    "num_repetitions = generator_module.num_repetitions\n",
    "parameter_names_sorted = data_pbs.dataset_infos['parameters']\n",
    "all_args_arr = np.array(data_pbs.loaded_data['args_list'])\n",
    "\n",
    "T_space = data_pbs.loaded_data['parameters_uniques']['T']\n",
    "M_space = data_pbs.loaded_data['parameters_uniques']['M']\n",
    "ratio_conj_space = data_pbs.loaded_data['parameters_uniques']['ratio_conj']\n",
    "\n",
    "pandas_columns_with_processing = [\n",
    "    ('result_all_precisions', dict(name='precision', process=avg_lastaxis)),\n",
    "    ('result_FI_rc_curv', dict(name='fi_curv', process=process_fi)),\n",
    "    ('result_FI_rc_theo', dict(name='fi_theo', process=process_fi)),\n",
    "    ('result_FI_rc_theocov', dict(name='fi_theo_cov', process=process_fi)),\n",
    "    ('result_marginal_FI', dict(name='fi_marginal', process=process_marginal_fi)),\n",
    "    ('result_marginal_inv_FI', dict(name='inv_fi_marginal', process=process_marginal_fi)),\n",
    "    ('result_em_fits', dict(name='emfit', process=process_em_fits)),\n",
    "]\n",
    "\n",
    "df_all_fits = construct_pandas_dataframe(data_pbs, pandas_columns_with_processing, num_repetitions)\n",
    "df_all_fits.loc[:, ('T')] = df_all_fits.loc[:, ('T')].astype(int)\n",
    "df_all_fits.loc[:, ('M')] = df_all_fits.loc[:, ('M')].astype(int)\n",
    "df_all_fits.loc[:, ('fi_kappa_ratio')] = df_all_fits['fi_theo']/(2*df_all_fits['emfit_kappa'])\n",
    "df_all_fits.loc[:, ('fi_stddev_ratio')] = df_all_fits['fi_theo_stddev']/(df_all_fits['emfit_stddev'])\n",
    "df_all_fits.loc[:, ('margfi_stddev_ratio')] = df_all_fits['inv_fi_marginal_stddev']/(df_all_fits['emfit_stddev'])\n",
    "\n",
    "df_all_fits = df_all_fits[df_all_fits['inv_fi_marginal_stddev'] < 1.5*np.pi]"
   ]
  },
  {
   "cell_type": "code",
   "execution_count": null,
   "metadata": {
    "collapsed": false
   },
   "outputs": [],
   "source": [
    "df_all_fits.describe()"
   ]
  },
  {
   "cell_type": "code",
   "execution_count": null,
   "metadata": {
    "collapsed": false
   },
   "outputs": [],
   "source": [
    "# Remove outliers\n",
    "df_fits_filtered = remove_outliers(df_all_fits, 10)"
   ]
  },
  {
   "cell_type": "code",
   "execution_count": null,
   "metadata": {
    "collapsed": false
   },
   "outputs": [],
   "source": [
    "df_fits_filtered.describe()"
   ]
  },
  {
   "cell_type": "markdown",
   "metadata": {},
   "source": [
    "## -> Some stats"
   ]
  },
  {
   "cell_type": "code",
   "execution_count": null,
   "metadata": {
    "collapsed": false
   },
   "outputs": [],
   "source": [
    "## Correlations\n",
    "df_fits_filtered.corr()"
   ]
  },
  {
   "cell_type": "code",
   "execution_count": null,
   "metadata": {
    "collapsed": false
   },
   "outputs": [],
   "source": [
    "# Cross-correlation plots\n",
    "g = sns.pairplot(df_fits_filtered,\n",
    "             vars=['fi_theo_stddev', 'fi_marginal_stddev', 'inv_fi_marginal_stddev', \n",
    "                   'fi_curv_stddev', 'emfit_stddev'],\n",
    "            )\n",
    "for ax in g.axes.flat:  \n",
    "    plt.setp(ax.get_xticklabels(), rotation=45)\n"
   ]
  },
  {
   "cell_type": "code",
   "execution_count": null,
   "metadata": {
    "collapsed": false
   },
   "outputs": [],
   "source": [
    "# Check parameters effects\n",
    "sns.pairplot(df_fits_filtered,\n",
    "             x_vars=parameter_names_sorted,\n",
    "             y_vars=['fi_theo', 'fi_marginal', 'fi_curv', 'emfit_kappa', 'precision']\n",
    "            )"
   ]
  },
  {
   "cell_type": "code",
   "execution_count": null,
   "metadata": {
    "collapsed": false,
    "scrolled": false
   },
   "outputs": [],
   "source": [
    "# for T, subdf in df_fits_filtered.groupby('T'):\n",
    "#     g = sns.pairplot(subdf,\n",
    "#                  x_vars=['fi_theo', 'fi_marginal', 'fi_curv', 'emfit_kappa'],\n",
    "#                  y_vars=['fi_theo', 'fi_marginal', 'fi_curv', 'emfit_kappa'],\n",
    "#                 )\n",
    "#     g.fig.suptitle(\"T : %d \"% T, fontsize=30)\n",
    "#     for ax in g.axes.flat:  \n",
    "#         plt.setp(ax.get_xticklabels(), rotation=45)"
   ]
  },
  {
   "cell_type": "markdown",
   "metadata": {},
   "source": [
    "\n",
    "# -----   T=1 -----\n"
   ]
  },
  {
   "cell_type": "markdown",
   "metadata": {
    "collapsed": true
   },
   "source": [
    "\n",
    "\n",
    "## Quantize parameters"
   ]
  },
  {
   "cell_type": "code",
   "execution_count": null,
   "metadata": {
    "collapsed": false
   },
   "outputs": [],
   "source": [
    "nQuantiles = 20\n",
    "parameters = ['M', 'ratio_conj']\n",
    "\n",
    "df_singleitem = filter_dataframe(df_all_fits, dict(T=1))\n",
    "df_quantized, param_qbins, param_qbins_middle = df_add_quantize_parameters(df_singleitem, parameters, nQuantiles)"
   ]
  },
  {
   "cell_type": "markdown",
   "metadata": {},
   "source": [
    "### trying quantized Dataframes"
   ]
  },
  {
   "cell_type": "code",
   "execution_count": null,
   "metadata": {
    "collapsed": false
   },
   "outputs": [],
   "source": [
    "df_fixedM = filter_quantized_param(df_quantized, \n",
    "                                   dict(M=150), \n",
    "                                   param_qbins\n",
    "                                  )"
   ]
  },
  {
   "cell_type": "code",
   "execution_count": null,
   "metadata": {
    "collapsed": false
   },
   "outputs": [],
   "source": [
    "df_fixedM[['fi_theo', 'emfit_stddev', 'emfit_target', 'M', 'ratio_conj']].corr()"
   ]
  },
  {
   "cell_type": "code",
   "execution_count": null,
   "metadata": {
    "collapsed": false
   },
   "outputs": [],
   "source": [
    "sns.pairplot(df_fixedM,\n",
    "             x_vars=['M', 'ratio_conj'],\n",
    "             y_vars=['emfit_stddev', 'emfit_target']\n",
    "            )"
   ]
  },
  {
   "cell_type": "markdown",
   "metadata": {},
   "source": [
    "## Create 2d plots M/ratio"
   ]
  },
  {
   "cell_type": "code",
   "execution_count": null,
   "metadata": {
    "collapsed": false
   },
   "outputs": [],
   "source": [
    "df_Mratio_effect = df_quantized.pivot_table(index='M_qi', columns='ratio_conj_qi', aggfunc='mean')"
   ]
  },
  {
   "cell_type": "code",
   "execution_count": null,
   "metadata": {
    "collapsed": false
   },
   "outputs": [],
   "source": [
    "cmap = sns.light_palette(\"green\", as_cmap=True)\n",
    "\n",
    "ax = sns.heatmap(df_Mratio_effect['emfit_stddev'].T, \n",
    "                 yticklabels=[\"%.2f\" % v for v in param_qbins_middle['ratio_conj']],\n",
    "                 xticklabels=[\"%d\" % v for v in param_qbins_middle['M']],\n",
    "                 cmap=cmap\n",
    "                )\n",
    "ax.invert_yaxis()\n",
    "ax.set_ylabel(\"ratio conj\")\n",
    "ax.set_xlabel(\"M\")"
   ]
  },
  {
   "cell_type": "code",
   "execution_count": null,
   "metadata": {
    "collapsed": false
   },
   "outputs": [],
   "source": [
    "target_stddev = utils.kappa_to_stddev(100)\n",
    "kappa_evolution = df_Mratio_effect['emfit_stddev']/target_stddev\n",
    "kappa_evolution[kappa_evolution < 0.1] = 0.1\n",
    "kappa_evolution[kappa_evolution > 5.] = 5.\n",
    "\n",
    "cmap = sns.diverging_palette(145, 280, s=85, l=25, n=10, as_cmap=True)\n",
    "ax, im = utils.pcolor_2d_data(kappa_evolution, \n",
    "                              x=param_qbins_middle['M'],\n",
    "                              y=param_qbins_middle['ratio_conj'], \n",
    "                              xlabel='M', \n",
    "                              xlabel_format=\"%d\",\n",
    "                              ylabel='ratio conj', \n",
    "                              vmin=0.5,\n",
    "                              vmax=1.5,\n",
    "                              cmap=cmap\n",
    "                             )\n",
    "ax.grid('off')"
   ]
  },
  {
   "cell_type": "code",
   "execution_count": null,
   "metadata": {
    "collapsed": false
   },
   "outputs": [],
   "source": [
    "fi_kappa_ratio = df_Mratio_effect['fi_theo_stddev']/(df_Mratio_effect['emfit_stddev'])\n",
    "fi_kappa_ratio[fi_kappa_ratio > 1.5] = 1.5\n",
    "fi_kappa_ratio[fi_kappa_ratio < 0.5] = 0.5\n",
    "\n",
    "cmap = sns.diverging_palette(145, 280, s=85, l=25, n=7, as_cmap=True)\n",
    "ax, im = utils.pcolor_2d_data(fi_kappa_ratio, \n",
    "                              x=param_qbins_middle['M'],\n",
    "                              y=param_qbins_middle['ratio_conj'], \n",
    "                              xlabel='M', \n",
    "                              xlabel_format=\"%d\",\n",
    "                              ylabel='ratio conj', \n",
    "                              vmin=0.5,\n",
    "                              vmax=1.5,\n",
    "                              cmap=cmap\n",
    "                             )\n",
    "ax.grid('off')"
   ]
  },
  {
   "cell_type": "markdown",
   "metadata": {},
   "source": [
    "## Interpolate 2D plots instead"
   ]
  },
  {
   "cell_type": "code",
   "execution_count": null,
   "metadata": {
    "collapsed": true
   },
   "outputs": [],
   "source": [
    "def add_target_kappa_columns(df, target_kappa=100):\n",
    "    target_kappa_ratio = df['emfit_kappa']/target_kappa\n",
    "    target_kappa_ratio[target_kappa_ratio > 5.] = 5.\n",
    "    target_kappa_ratio[target_kappa_ratio < 0.01] = 0.01\n",
    "\n",
    "    target_fi_ratio = df['fi_theo']/(2*target_kappa)\n",
    "    target_fi_ratio[target_fi_ratio > 5.] = 5.\n",
    "    target_fi_ratio[target_fi_ratio < 0.01] = 0.01\n",
    "\n",
    "    df.loc[:, 'target_kappa_ratio'] = target_kappa_ratio\n",
    "    df.loc[:, 'target_fi_ratio'] = target_fi_ratio\n",
    "\n",
    "def add_target_stddev_columns(df, target_stddev=0.2):\n",
    "    target_stddev_ratio = df['emfit_stddev']/target_stddev\n",
    "    target_stddev_ratio[target_stddev_ratio > 5.] = 5.\n",
    "    target_stddev_ratio[target_stddev_ratio < 0.01] = 0.01\n",
    "\n",
    "    target_fi_stddev_ratio = df['fi_theo_stddev']/(target_stddev)\n",
    "    target_fi_stddev_ratio[target_fi_stddev_ratio > 5.] = 5.\n",
    "    target_fi_stddev_ratio[target_fi_stddev_ratio < 0.01] = 0.01\n",
    "    \n",
    "    target_margfi_stddev_ratio = df['inv_fi_marginal_stddev']/(target_stddev)\n",
    "    target_margfi_stddev_ratio[target_margfi_stddev_ratio > 5.] = 5.\n",
    "    target_margfi_stddev_ratio[target_margfi_stddev_ratio < 0.01] = 0.01\n",
    "    \n",
    "    df.loc[:, 'target_stddev_ratio'] = target_stddev_ratio\n",
    "    df.loc[:, 'target_fi_stddev_ratio'] = target_fi_stddev_ratio\n",
    "    df.loc[:, 'target_margfi_stddev_ratio'] = target_margfi_stddev_ratio"
   ]
  },
  {
   "cell_type": "code",
   "execution_count": null,
   "metadata": {
    "collapsed": true
   },
   "outputs": [],
   "source": [
    "target_kappa = 30\n",
    "add_target_kappa_columns(df_quantized, target_kappa=target_kappa)\n",
    "add_target_stddev_columns(df_quantized, target_stddev=utils.kappa_to_stddev(target_kappa))"
   ]
  },
  {
   "cell_type": "code",
   "execution_count": null,
   "metadata": {
    "collapsed": true
   },
   "outputs": [],
   "source": [
    "M_int_space = np.sort(df_quantized['M'].unique())\n",
    "ratio_int_space = np.sort(df_quantized['ratio_conj'].unique())"
   ]
  },
  {
   "cell_type": "code",
   "execution_count": null,
   "metadata": {
    "collapsed": false
   },
   "outputs": [],
   "source": [
    "def compute_spline_interpolation(df, interpolate_column, x_col='', y_col='', kx=3, ky=3, s=None):\n",
    "    return spint.SmoothBivariateSpline(df[x_col], \n",
    "                          df[y_col],\n",
    "                          df[interpolate_column],\n",
    "                          kx=kx, ky=ky, s=s)"
   ]
  },
  {
   "cell_type": "code",
   "execution_count": null,
   "metadata": {
    "collapsed": true
   },
   "outputs": [],
   "source": [
    "def plot_interpolated_Mratio(df, target_column, \n",
    "                             x_col='M', y_col='ratio_conj', \n",
    "                             title='', \n",
    "                             vmin=1.5, vmax=0.5, \n",
    "                             cmap='RdBu_r'):\n",
    "    x_int_space = M_int_space = np.sort(df[x_col].unique())\n",
    "    y_int_space = np.sort(df[y_col].unique())\n",
    "\n",
    "    spline_int = compute_spline_interpolation(df, target_column, \n",
    "                                              x_col=x_col, y_col=y_col\n",
    "                                             )\n",
    "    return utils.pcolor_2d_data(spline_int(x_int_space, y_int_space),\n",
    "                                x=x_int_space, \n",
    "                                y=y_int_space, \n",
    "                                xlabel=x_col, \n",
    "                                xlabel_format=\"%d\", \n",
    "                                ylabel=y_col, \n",
    "                                title=title,\n",
    "                                ticks_interpolate=11,\n",
    "                                vmin=vmin,\n",
    "                                vmax=vmax,\n",
    "                                log_scale=False, \n",
    "                                cmap=cmap\n",
    "                               )"
   ]
  },
  {
   "cell_type": "code",
   "execution_count": null,
   "metadata": {
    "collapsed": false
   },
   "outputs": [],
   "source": [
    "cmap_div = sns.diverging_palette(h_neg=29, h_pos=265, s=80, l=85, sep=10, as_cmap=True, center='dark')\n",
    "plot_interpolated_Mratio(df_quantized, 'target_kappa_ratio', title='Ratio kappa/%.2f' % (target_kappa), cmap=cmap_div)\n",
    "plot_interpolated_Mratio(df_quantized, 'target_fi_ratio', title='Ratio FI/%.2f' % (2*target_kappa), cmap=cmap_div)\n",
    "plot_interpolated_Mratio(df_quantized, 'fi_kappa_ratio', title='Ratio FI/(2 Kappa)')"
   ]
  },
  {
   "cell_type": "code",
   "execution_count": null,
   "metadata": {
    "collapsed": false
   },
   "outputs": [],
   "source": [
    "cmap_div = sns.diverging_palette(h_neg=29, h_pos=265, s=80, l=85, sep=10, as_cmap=True, center='dark')\n",
    "plot_interpolated_Mratio(df_quantized, 'target_stddev_ratio', \n",
    "                         title='Ratio stddev/%.2f' % (target_stddev), \n",
    "                        )\n",
    "plot_interpolated_Mratio(df_quantized, 'target_fi_stddev_ratio', \n",
    "                         title='Ratio FI/%.2f' % (target_stddev), \n",
    "                        )\n",
    "plot_interpolated_Mratio(df_quantized, 'target_margfi_stddev_ratio', \n",
    "                         title='Ratio Marginal Inv FI/%.2f' % (target_stddev), \n",
    "                        )\n",
    "plot_interpolated_Mratio(df_quantized, 'fi_stddev_ratio', title='Ratio FI / Stddev')\n",
    "plot_interpolated_Mratio(df_quantized, 'margfi_stddev_ratio', title='Ratio Marginal FI / Stddev')"
   ]
  },
  {
   "cell_type": "code",
   "execution_count": null,
   "metadata": {
    "collapsed": false
   },
   "outputs": [],
   "source": [
    "sns.pairplot(df_quantized,\n",
    "             x_vars=['M', 'ratio_conj'],\n",
    "             y_vars=['fi_stddev_ratio', 'margfi_stddev_ratio', 'emfit_stddev', 'emfit_LL']\n",
    "            )"
   ]
  },
  {
   "cell_type": "markdown",
   "metadata": {},
   "source": [
    "# --------- T = 2  -----------"
   ]
  },
  {
   "cell_type": "code",
   "execution_count": null,
   "metadata": {
    "collapsed": true
   },
   "outputs": [],
   "source": [
    "df_quantized_2, param_qbins, param_qbins_middle = df_add_quantize_parameters(filter_dataframe(df_all_fits, dict(T=2)), \n",
    "                                                                           parameters, \n",
    "                                                                           nQuantiles)"
   ]
  },
  {
   "cell_type": "code",
   "execution_count": null,
   "metadata": {
    "collapsed": true
   },
   "outputs": [],
   "source": [
    "target_kappa = 10\n",
    "add_target_kappa_columns(df_quantized_2, target_kappa=target_kappa)\n",
    "add_target_stddev_columns(df_quantized_2, target_stddev=utils.kappa_to_stddev(target_kappa))"
   ]
  },
  {
   "cell_type": "code",
   "execution_count": null,
   "metadata": {
    "collapsed": false
   },
   "outputs": [],
   "source": [
    "cmap_div = sns.diverging_palette(h_neg=29, h_pos=265, s=80, l=85, sep=10, as_cmap=True, center='dark')\n",
    "plot_interpolated_Mratio(df_quantized_2, 'target_kappa_ratio', title='Ratio kappa/%.2f' % (target_kappa), cmap=cmap_div)\n",
    "plot_interpolated_Mratio(df_quantized_2, 'target_fi_ratio', title='Ratio FI/%.2f' % (2*target_kappa), cmap=cmap_div)\n",
    "plot_interpolated_Mratio(df_quantized_2, 'fi_kappa_ratio', title='Ratio FI/(2 Kappa)')"
   ]
  },
  {
   "cell_type": "code",
   "execution_count": null,
   "metadata": {
    "collapsed": false
   },
   "outputs": [],
   "source": [
    "cmap_div = sns.diverging_palette(h_neg=29, h_pos=265, s=80, l=85, sep=10, as_cmap=True, center='dark')\n",
    "plot_interpolated_Mratio(df_quantized_2, 'target_stddev_ratio', \n",
    "                         title='Ratio stddev/%.2f' % (target_stddev), \n",
    "                        )\n",
    "plot_interpolated_Mratio(df_quantized_2, 'target_fi_stddev_ratio', \n",
    "                         title='Ratio FI/%.2f' % (target_stddev), \n",
    "                        )\n",
    "plot_interpolated_Mratio(df_quantized_2, 'target_margfi_stddev_ratio', \n",
    "                         title='Ratio Marginal Inv FI/%.2f' % (target_stddev), \n",
    "                        )\n",
    "plot_interpolated_Mratio(df_quantized_2, 'fi_stddev_ratio', title='Ratio FI / Stddev')\n",
    "plot_interpolated_Mratio(df_quantized_2, 'margfi_stddev_ratio', title='Ratio Marginal FI / Stddev')"
   ]
  },
  {
   "cell_type": "code",
   "execution_count": null,
   "metadata": {
    "collapsed": false
   },
   "outputs": [],
   "source": [
    "sns.pairplot(df_quantized_2,\n",
    "             x_vars=['M', 'ratio_conj'],\n",
    "             y_vars=['fi_stddev_ratio', 'emfit_stddev', 'emfit_target', 'emfit_LL']\n",
    "            )"
   ]
  },
  {
   "cell_type": "code",
   "execution_count": null,
   "metadata": {
    "collapsed": false
   },
   "outputs": [],
   "source": [
    "## Ratio Conj 0.7 is weird ?\n",
    "\n",
    "df_ratioproblem = filter_quantized_param(df_quantized_2, dict(ratio_conj=0.7), param_qbins)\n",
    "\n",
    "g = sns.lmplot(data=df_ratioproblem, x='M', y='emfit_stddev', truncate=True, order=2, fit_reg=False)\n",
    "xlims = (df_ratioproblem['M'].min(), df_ratioproblem['M'].max())\n",
    "g.set(xlim=xlims, ylim=(0, 0.8))\n",
    "\n",
    "g = sns.lmplot(data=df_ratioproblem, x='M', y='fi_theo_stddev', truncate=True, order=2, fit_reg=False)\n",
    "g.set(xlim=xlims, ylim=(0, 0.8))\n",
    "\n",
    "g = sns.lmplot(data=df_ratioproblem, x='M', y='inv_fi_marginal_stddev', truncate=True, order=2, fit_reg=False)\n",
    "g.set(xlim=xlims, ylim=(0, 0.8))\n",
    "\n",
    "\n",
    "g = sns.lmplot(data=df_ratioproblem, x='M', y='fi_stddev_ratio', truncate=True, order=2, fit_reg=False,\n",
    "               scatter_kws={'color': 'red'}\n",
    "              )\n",
    "g.set(xlim=xlims, ylim=(0.5, 1.5))\n",
    "\n",
    "g = sns.lmplot(data=df_ratioproblem, x='M', y='margfi_stddev_ratio', truncate=True, order=2, fit_reg=False,\n",
    "               scatter_kws={'color': 'red'}\n",
    "              )\n",
    "g.set(xlim=xlims, ylim=(0.5, 1.5))"
   ]
  },
  {
   "cell_type": "code",
   "execution_count": null,
   "metadata": {
    "collapsed": false
   },
   "outputs": [],
   "source": [
    "## Check Small M effect\n",
    "\n",
    "df_smallM = filter_quantized_param(df_quantized_2, dict(M=10), param_qbins)\n",
    "\n",
    "g = sns.lmplot(data=df_smallM, x='ratio_conj', y='emfit_stddev', order=2, fit_reg=False)\n",
    "xlims = (df_smallM['ratio_conj'].min(), df_smallM['ratio_conj'].max())\n",
    "g.set(xlim=xlims, ylim=(0, 1.5))\n",
    "\n",
    "g = sns.lmplot(data=df_smallM, x='ratio_conj', y='fi_theo_stddev', order=2, fit_reg=False)\n",
    "g.set(xlim=xlims, ylim=(0, 1.5))\n",
    "\n",
    "g = sns.lmplot(data=df_smallM, x='ratio_conj', y='inv_fi_marginal_stddev', order=2, fit_reg=False)\n",
    "g.set(xlim=xlims, ylim=(0, 1.5))\n",
    "\n",
    "g = sns.lmplot(data=df_smallM, x='ratio_conj', y='fi_stddev_ratio', order=2, fit_reg=False,\n",
    "               scatter_kws={'color': 'red'}\n",
    "              )\n",
    "g.set(xlim=xlims, ylim=(0.5, 1.5))\n",
    "\n",
    "g = sns.lmplot(data=df_smallM, x='ratio_conj', y='margfi_stddev_ratio', truncate=True, order=2, fit_reg=False,\n",
    "               scatter_kws={'color': 'red'}\n",
    "              )\n",
    "g.set(xlim=xlims, ylim=(0.5, 1.5))"
   ]
  },
  {
   "cell_type": "code",
   "execution_count": null,
   "metadata": {
    "collapsed": true
   },
   "outputs": [],
   "source": []
  }
 ],
 "metadata": {
  "kernelspec": {
   "display_name": "Python 2",
   "language": "python",
   "name": "python2"
  },
  "language_info": {
   "codemirror_mode": {
    "name": "ipython",
    "version": 2
   },
   "file_extension": ".py",
   "mimetype": "text/x-python",
   "name": "python",
   "nbconvert_exporter": "python",
   "pygments_lexer": "ipython2",
   "version": "2.7.11"
  }
 },
 "nbformat": 4,
 "nbformat_minor": 0
}
