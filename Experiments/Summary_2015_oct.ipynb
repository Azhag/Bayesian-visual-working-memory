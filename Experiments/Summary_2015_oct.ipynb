{
 "cells": [
  {
   "cell_type": "markdown",
   "metadata": {},
   "source": [
    "# Summary Notebook\n",
    "\n",
    "What we found and where to look for it\n"
   ]
  },
  {
   "cell_type": "markdown",
   "metadata": {},
   "source": [
    "## TODO Tracking\n",
    "\n",
    "1. Fix loglikelihood:\n",
    "    2. Check if it works or not: gather both LL and EM fits on a given subset of Bayes09 for random parameters and check their correlation.\n",
    "        3. Adapt FitExperiment, as it currently expects one parameter setting and tests it on multiple datasets. It's best to run different sweeps for different datasets, they are not compatible. The handling of n_items N is not great. Should also handle evaluating metrics over a subset of the data better, check if we can do a sampling like that as well (just hack it) \n",
    "            * **Done, now need to rewrite the launchers**\n",
    "            * **Launchers working and finished**\n",
    "    2. Verify if the sigma_output works or not. \n",
    "        * **Couldn't see an issue in the code. Need to launch optim and see the effect**\n",
    "        * **In summary: not really, it affects the EM fit of precision too much.**\n",
    "        * **See following notebook: [Check Loglikelihood model selection behaviour](./fitexperiment_allt_new_10_2015/notebook_LLcheck_random_fitexperimentallt_sigmaxMratiosigmaoutput_121015.ipynb)**\n",
    "    2. If sigma_output doesn't work, use lapse rate instead.\n",
    "        3. Compute new likelihood function, involves a sum of the previous one and a baseline, I think.\n",
    "            * **Done and implemented, seems to be correct**\n",
    "            * **Ran experimental fits, and obtain a better result than with sigma_output. It seems like this could work to get good fits. **\n",
    "            * **See following notebook: [Check Loglikelihood with Lapse Rate](./fitexperiment_allt_new_10_2015/notebook_LLlapse_random_fitexperimentallt_sigmaxMratiolapserate_131015.ipynb) **\n",
    "        3. Do same thing for Gorgo11.\n",
    "            * ** Got acceptable fits as well, with similar characteristics. It is a harder dataset to fit though, as we've seen multiple times... **\n",
    "    2. Single experiment CMA/ES fits, compare with previous fits.\n",
    "        3. First try to run LL90-only optimisations, hope for the best.\n",
    "            * **Seems to find weird parameters values to get highest fits (lapse_rate=.2, sigma_x=0, M=600, ratio=0.4). These give very bad summary statistics, with super high kappa... **\n",
    "            * **Trying new runs now, should look at obtained model and see why it gets high LL**\n",
    "        3. Secondly, could try to do a combination of LL90 and EM fits? Not the best scales though...\n",
    "    2. CMA/ES with summed LL overfits nitem=1 instead of all. Should move towards a geometric mean instead. Check why that is.\n",
    "1. Run fits per subject\n",
    "\n"
   ]
  },
  {
   "cell_type": "markdown",
   "metadata": {},
   "source": [
    "## TIMECARD\n",
    "* [06.10.15] 1.A.a underway\n",
    "* [09.10.15] 1.A.a done.\n",
    "* [13.10.15] 1.B done.\n",
    "* [14.10.15] 1.C done.\n",
    "* [29.10.15] 1.D underway.\n"
   ]
  },
  {
   "cell_type": "markdown",
   "metadata": {},
   "source": [
    "# Experiments"
   ]
  },
  {
   "cell_type": "markdown",
   "metadata": {},
   "source": [
    "## Bayes 09\n",
    "\n",
    "Fits done with summary statistics work properly. See paper for final ones.\n",
    "These were done through either:\n",
    "\n",
    "*  **[sigmaoutput_normalisedsigmax_random/reloader_normalisedsigmaxsigmaoutput_random_fitmixturemodels_sigmaxMratiosigmaoutput_280814.py](./sigmaoutput_normalisedsigmax_random/reloader_normalisedsigmaxsigmaoutput_random_fitmixturemodels_sigmaxMratiosigmaoutput_280814.py)**\n",
    "* **[fit_mixturemodels/generator_fit_mixturemodels_newresponsemaxout_sigmaxMratio_random_130714.py](fit_mixturemodels/generator_fit_mixturemodels_newresponsemaxout_sigmaxMratio_random_130714.py)**\n",
    "\n",
    "Check which one to be sure.\n"
   ]
  },
  {
   "cell_type": "markdown",
   "metadata": {},
   "source": [
    "### Loglikelihood fits\n",
    "\n",
    "* Using Sigma_output, doesn't really work : [Check Loglikelihood model selection behaviour](./fitexperiment_allt_new_10_2015/notebook_LLcheck_random_fitexperimentallt_sigmaxMratiosigmaoutput_121015.ipynb)\n",
    "* Using Lapse rate, works better : [Check Loglikelihood with Lapse Rate](./fitexperiment_allt_new_10_2015/notebook_LLlapse_random_fitexperimentallt_sigmaxMratiolapserate_131015.ipynb)\n"
   ]
  },
  {
   "cell_type": "markdown",
   "metadata": {
    "collapsed": true
   },
   "source": [
    "## Gorgo 11\n",
    "\n",
    "Fits with summary statistics are not great.\n",
    "Basically it's really hard to get parameters that capture both the width of the posterior and the mixture proportions...\n",
    "\n"
   ]
  },
  {
   "cell_type": "markdown",
   "metadata": {},
   "source": [
    "### Loglikelihood fits\n",
    "\n",
    "Done with Lapse rate, works all right: [Loglikelihood Lapse Rate for Gorgo 11](./fitexperiment_allt_new_10_2015/notebook_LLlapse_gorgo11_random_fitexperimentallt_sigmaxMratiolapserate_301015.ipynb)\n",
    "\n",
    "But not amazing, similar as with summary statistics fits"
   ]
  },
  {
   "cell_type": "code",
   "execution_count": null,
   "metadata": {
    "collapsed": true
   },
   "outputs": [],
   "source": []
  }
 ],
 "metadata": {
  "kernelspec": {
   "display_name": "Python 2",
   "language": "python",
   "name": "python2"
  },
  "language_info": {
   "codemirror_mode": {
    "name": "ipython",
    "version": 2
   },
   "file_extension": ".py",
   "mimetype": "text/x-python",
   "name": "python",
   "nbconvert_exporter": "python",
   "pygments_lexer": "ipython2",
   "version": "2.7.10"
  }
 },
 "nbformat": 4,
 "nbformat_minor": 0
}
