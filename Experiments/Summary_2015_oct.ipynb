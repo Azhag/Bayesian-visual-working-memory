{
 "cells": [
  {
   "cell_type": "markdown",
   "metadata": {},
   "source": [
    "# Summary Notebook\n",
    "\n",
    "What we found and where to look for it\n"
   ]
  },
  {
   "cell_type": "markdown",
   "metadata": {},
   "source": [
    "## TODO\n",
    "\n",
    "1. Fix loglikelihood:\n",
    "    2. Check if it works or not: gather both LL and EM fits on a given subset of Bayes09 for random parameters and check their correlation.\n",
    "        3. Adapt FitExperiment, as it currently expects one parameter setting and tests it on multiple datasets. It's best to run different sweeps for different datasets, they are not compatible. The handling of n_items N is not great. Should also handle evaluating metrics over a subset of the data better, check if we can do a sampling like that as well (just hack it)\n",
    "    2. Verify if the sigma_output works or not.\n",
    "    2. If sigma_output doesn't work, use lapse rate instead.\n",
    "        3. Compute new likelihood function, involves a sum of the previous one and a baseline, I think.\n",
    "    2. Single experiment CMA/ES fits, compare with previous fits.\n",
    "1. Run fits per subject\n"
   ]
  },
  {
   "cell_type": "markdown",
   "metadata": {},
   "source": [
    "## DONE\n",
    "* [06.10.15] 1.A.a underway\n"
   ]
  },
  {
   "cell_type": "markdown",
   "metadata": {},
   "source": [
    "# Experiments"
   ]
  },
  {
   "cell_type": "markdown",
   "metadata": {},
   "source": [
    "## Bayes 09\n",
    "\n",
    "Fits done with summary statistics work properly. See paper for final ones.\n",
    "These were done through either:\n",
    "\n",
    "*  **[sigmaoutput_normalisedsigmax_random/reloader_normalisedsigmaxsigmaoutput_random_fitmixturemodels_sigmaxMratiosigmaoutput_280814.py](./sigmaoutput_normalisedsigmax_random/reloader_normalisedsigmaxsigmaoutput_random_fitmixturemodels_sigmaxMratiosigmaoutput_280814.py)**\n",
    "* **[fit_mixturemodels/generator_fit_mixturemodels_newresponsemaxout_sigmaxMratio_random_130714.py](fit_mixturemodels/generator_fit_mixturemodels_newresponsemaxout_sigmaxMratio_random_130714.py)**\n",
    "\n",
    "Check which one to be sure.\n"
   ]
  },
  {
   "cell_type": "markdown",
   "metadata": {},
   "source": []
  },
  {
   "cell_type": "code",
   "execution_count": null,
   "metadata": {
    "collapsed": true
   },
   "outputs": [],
   "source": []
  }
 ],
 "metadata": {
  "kernelspec": {
   "display_name": "Python 2",
   "language": "python",
   "name": "python2"
  },
  "language_info": {
   "codemirror_mode": {
    "name": "ipython",
    "version": 2
   },
   "file_extension": ".py",
   "mimetype": "text/x-python",
   "name": "python",
   "nbconvert_exporter": "python",
   "pygments_lexer": "ipython2",
   "version": "2.7.10"
  }
 },
 "nbformat": 4,
 "nbformat_minor": 0
}
