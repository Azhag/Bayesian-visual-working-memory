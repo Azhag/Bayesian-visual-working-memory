{
 "cells": [
  {
   "cell_type": "markdown",
   "metadata": {},
   "source": [
    "# CMA/ES - GORGO 11 SEQUENTIAL - Hierarchical 1th try: EM Fits MSE scaled\n",
    "\n",
    "**HIERARCHICAL NETWORK**\n",
    "\n",
    "Scaled EM Fits"
   ]
  },
  {
   "cell_type": "code",
   "execution_count": null,
   "metadata": {},
   "outputs": [],
   "source": [
    "%matplotlib inline\n",
    "%load_ext autoreload\n",
    "%autoreload 2"
   ]
  },
  {
   "cell_type": "code",
   "execution_count": null,
   "metadata": {
    "collapsed": true
   },
   "outputs": [],
   "source": [
    "import os\n",
    "import numpy as np\n",
    "import matplotlib as mpl\n",
    "import matplotlib.pyplot as plt\n",
    "import pandas as pd\n",
    "import seaborn as sns\n",
    "import sys\n",
    "from IPython.utils import io\n",
    "\n",
    "\n",
    "from experimentlauncher import ExperimentLauncher\n",
    "from dataio import DataIO\n",
    "import plots_experimental_data\n",
    "import em_circularmixture_parametrickappa\n",
    "\n",
    "\n",
    "# import matplotlib.animation as plt_anim\n",
    "from mpl_toolkits.mplot3d import Axes3D\n",
    "\n",
    "import re\n",
    "import inspect\n",
    "import imp\n",
    "\n",
    "import utils\n",
    "# import submitpbs\n",
    "import load_experimental_data\n",
    "\n",
    "import fitexperiment_sequential\n",
    "from plots_fitexperiment_sequential import PlotsFitExperimentSequential"
   ]
  },
  {
   "cell_type": "code",
   "execution_count": null,
   "metadata": {},
   "outputs": [],
   "source": [
    "from plotly import offline as py\n",
    "from plotly import graph_objs as go\n",
    "py.init_notebook_mode(connected=True)\n"
   ]
  },
  {
   "cell_type": "markdown",
   "metadata": {},
   "source": [
    "## Reload data"
   ]
  },
  {
   "cell_type": "code",
   "execution_count": null,
   "metadata": {},
   "outputs": [],
   "source": [
    "%cd /nfs/data3/lmatthey/visual_working_mem/fitexperiment_sigmabaseline_cmaes_08_2016/cmaes_hier_gorgo11sequential_1try_emfitmsescaled_Mratiosigxsigbaselapsealpha_rep3_181018/\n",
    "results_optim_tracking = np.load('outputs/cmaes_alliter_tracking-<module>-8b9f09b8-c8e0-4201-a135-321eff2f4cf1.npy').item()\n"
   ]
  },
  {
   "cell_type": "code",
   "execution_count": null,
   "metadata": {
    "collapsed": true
   },
   "outputs": [],
   "source": [
    "# dataio = DataIO(label='cmaes_gorgo11seq', \n",
    "#                 calling_function='', \n",
    "#                 output_folder='./outputs/')"
   ]
  },
  {
   "cell_type": "code",
   "execution_count": null,
   "metadata": {
    "collapsed": true
   },
   "outputs": [],
   "source": [
    "candidates_parameters = np.array(results_optim_tracking['candidates'])\n",
    "fitness = np.array(results_optim_tracking['fitness'])\n",
    "parameter_names_sorted = results_optim_tracking['parameter_names_sorted']"
   ]
  },
  {
   "cell_type": "code",
   "execution_count": null,
   "metadata": {},
   "outputs": [],
   "source": [
    "parameter_names_sorted"
   ]
  },
  {
   "cell_type": "code",
   "execution_count": null,
   "metadata": {
    "collapsed": true
   },
   "outputs": [],
   "source": [
    "metric = 'dist_emfitscaled'\n",
    "\n",
    "df_all_fits = pd.DataFrame.from_items([('step', np.arange(fitness.size)), \n",
    "                                       (metric, np.ma.masked_greater(fitness.flatten(), 1e8))] + \n",
    "                                      [(param, candidates_parameters[:, param_i]) \n",
    "                                           for param_i, param in enumerate(parameter_names_sorted)])\n",
    "\n",
    "df_all_fits.loc[:, metric + \"_log\"] = np.log(df_all_fits[metric])\n",
    "df_all_fits.loc[:, metric + \"_log10\"] = np.log10(df_all_fits[metric])"
   ]
  },
  {
   "cell_type": "code",
   "execution_count": null,
   "metadata": {
    "collapsed": true
   },
   "outputs": [],
   "source": [
    "# Fix M and ratio_conj\n",
    "ratio_hierarchical, M_lower, M_higher = utils.fix_ratiohierarchical(\n",
    "    df_all_fits['M'], df_all_fits['ratio_hierarchical'])\n",
    "df_all_fits.loc[:, 'ratio_hierarchical'] = ratio_hierarchical\n",
    "df_all_fits.loc[:, 'M_lower'] = M_lower\n",
    "df_all_fits.loc[:, 'M_higher'] = M_higher"
   ]
  },
  {
   "cell_type": "code",
   "execution_count": null,
   "metadata": {
    "collapsed": true
   },
   "outputs": [],
   "source": [
    "# Filter rows where LL > cutoff value and remove lapse_rate > cutoff\n",
    "LL_max_cutoff = 200\n",
    "\n",
    "df_best_fits = df_all_fits[df_all_fits[metric] < LL_max_cutoff]"
   ]
  },
  {
   "cell_type": "code",
   "execution_count": null,
   "metadata": {
    "scrolled": false
   },
   "outputs": [],
   "source": [
    "# Check training of parameters\n",
    "g = sns.pairplot(df_best_fits,\n",
    "             y_vars=[metric + \"_log10\"] + parameter_names_sorted,\n",
    "             x_vars=['step'],\n",
    "             size=5\n",
    "            )\n",
    "g.set(xlim=(-1, df_best_fits['step'].max()))\n",
    "# dataio.save_current_figure('cmaes_traj_{label}_{unique_id}.pdf')\n",
    "\n",
    "# Check parameters effects\n",
    "# sns.pairplot(df_best_fits,\n",
    "#              x_vars=parameter_names_sorted,\n",
    "#              y_vars=[metric],\n",
    "#             )\n",
    "\n"
   ]
  },
  {
   "cell_type": "code",
   "execution_count": null,
   "metadata": {},
   "outputs": [],
   "source": [
    "# Filter the start of steps only\n",
    "df_cmaes_traj = df_best_fits[df_best_fits['step'] > 2000]\n",
    "# result_to_color = np.array(df_cmaes_traj['dist_emfitscaled'])\n",
    "result_to_color = np.array(df_cmaes_traj['step'])\n",
    "result_to_color = np.log(result_to_color)\n",
    "\n",
    "text = ['> %s' % (x) for x in result_to_color]\n",
    "\n",
    "trace1 = go.Scatter3d(\n",
    "        x = df_cmaes_traj['M'],\n",
    "        y = df_cmaes_traj['lapse_rate'],\n",
    "        z = df_cmaes_traj['sigma_baseline'],\n",
    "        text = text,\n",
    "        mode = 'markers',\n",
    "        marker = go.Marker(\n",
    "            color = result_to_color,\n",
    "            size = 8,\n",
    "            colorscale='Viridis',\n",
    "            opacity=0.7\n",
    "        )\n",
    "    )\n",
    "data = [trace1]\n",
    "layout = go.Layout(\n",
    "    title='Landscape for NLL92',\n",
    "    autosize=False,\n",
    "    width=700,\n",
    "    height=700,\n",
    "    margin=dict(\n",
    "        l=0,\n",
    "        r=0,\n",
    "        b=0,\n",
    "        t=0),\n",
    "    scene=go.Scene(\n",
    "        xaxis=go.XAxis(\n",
    "            title='M',\n",
    "        ),\n",
    "        yaxis=go.YAxis(\n",
    "            title='lapse_rate',\n",
    "        ),\n",
    "        zaxis=go.ZAxis(\n",
    "            title='sigma_baseline',\n",
    "        )\n",
    "    )\n",
    ")\n",
    "fig = go.Figure(data=data, layout=layout)\n",
    "py.iplot(fig)"
   ]
  },
  {
   "cell_type": "markdown",
   "metadata": {
    "collapsed": true
   },
   "source": [
    "## Check parameters values obtained"
   ]
  },
  {
   "cell_type": "code",
   "execution_count": null,
   "metadata": {},
   "outputs": [],
   "source": [
    "df_bestparams = df_best_fits.sort_values(by='step', ascending=False).head(1).median().to_dict()\n",
    "\n",
    "# df_bestparams = df_best_fits.sort_values(by='dist_emfitscaled').head(1).median().to_dict()\n",
    "\n",
    "df_bestparams"
   ]
  },
  {
   "cell_type": "code",
   "execution_count": null,
   "metadata": {
    "collapsed": true,
    "scrolled": true
   },
   "outputs": [],
   "source": [
    "experiment_parameters = dict(action_to_do='launcher_do_fitexperiment_sequential_allmetrics',\n",
    "                             inference_method='none',\n",
    "                             experiment_id='gorgo11_sequential',\n",
    "                             selection_method='last',\n",
    "                             renormalize_sigma=None,\n",
    "                             sigmay=0.00001,\n",
    "                             alpha=1.,\n",
    "                             num_samples=100,\n",
    "                             code_type='hierarchical',\n",
    "                             type_layer_one='feature',\n",
    "                             output_both_layers=None,\n",
    "                             normalise_weights=1,\n",
    "                             ratio_hierarchical=0.5,\n",
    "                             normalise_gain=None,\n",
    "                             threshold=1.0,    \n",
    "                             slice_width=0.07,\n",
    "                             burn_samples=100,\n",
    "                             ratio_conj=0.7,\n",
    "                             stimuli_generation_recall='random',\n",
    "                             autoset_parameters=None,\n",
    "                             filter_datapoints_size=500, \n",
    "                             filter_datapoints_selection='random'\n",
    "                             )\n",
    "\n",
    "experiment_parameters.update(df_bestparams)\n",
    "for key in experiment_parameters:\n",
    "    if 'M' in key:\n",
    "        experiment_parameters[key] = int(experiment_parameters[key])\n",
    "\n",
    "with io.capture_output(display=False, stdout=True) as captured:\n",
    "    experiment_launcher = ExperimentLauncher(run=True, arguments_dict=experiment_parameters)\n",
    "    fit_exp = experiment_launcher.all_vars['fit_exp']\n",
    "    results = experiment_launcher.all_vars['all_outputs_data']"
   ]
  },
  {
   "cell_type": "code",
   "execution_count": null,
   "metadata": {},
   "outputs": [],
   "source": [
    "plots_fit_exp = PlotsFitExperimentSequential(fit_exp)"
   ]
  },
  {
   "cell_type": "code",
   "execution_count": null,
   "metadata": {
    "collapsed": true,
    "scrolled": false
   },
   "outputs": [],
   "source": [
    "with io.capture_output(display=False, stdout=True) as captured:\n",
    "    axesFig2 = plots_fit_exp.plots_histograms_errors_triangle()"
   ]
  },
  {
   "cell_type": "code",
   "execution_count": null,
   "metadata": {
    "collapsed": true,
    "scrolled": false
   },
   "outputs": [],
   "source": [
    "with io.capture_output(display=False, stdout=True) as captured:\n",
    "    axesFig6 = plots_fit_exp.plots_mixtcurves_lasttrecall_fig6(num_repetitions=3, use_cache=True)"
   ]
  },
  {
   "cell_type": "code",
   "execution_count": null,
   "metadata": {
    "collapsed": true
   },
   "outputs": [],
   "source": [
    "with io.capture_output(display=False, stdout=True) as captured:\n",
    "    axes_fig7_data, axes_fig7_model = plots_fit_exp.plots_mixtcurves_collapsedpowerlaw_fig7()"
   ]
  },
  {
   "cell_type": "markdown",
   "metadata": {
    "collapsed": true
   },
   "source": [
    "# !! ANALYSE ME !!\n",
    "\n",
    "\n"
   ]
  },
  {
   "cell_type": "code",
   "execution_count": null,
   "metadata": {
    "collapsed": true
   },
   "outputs": [],
   "source": [
    "# Store figures\n",
    "dataio = DataIO(output_folder=os.path.join(os.path.abspath(\".\"), \"outputs\"), \n",
    "                label='thesis_gorgo11sequential_hier', calling_function='')\n",
    "dataio.make_link_output_to_dropbox(dropbox_current_experiment_folder='fitexperiment_sigmabaseline_cmaes_08_2016')"
   ]
  },
  {
   "cell_type": "code",
   "execution_count": null,
   "metadata": {
    "collapsed": true
   },
   "outputs": [],
   "source": [
    "# Histograms\n",
    "axesFig2[0, 0].figure.savefig(dataio.create_formatted_filename(\"seq_histograms_{label}_{unique_id}.pdf\"))\n",
    "# Fig6, last trecall\n",
    "axesFig6[0].figure.savefig(dataio.create_formatted_filename(\"seq_lasttrecall_{label}_{unique_id}.pdf\"))\n",
    "# Fig 7, all times\n",
    "axes_fig7_data[0, 0].figure.savefig(dataio.create_formatted_filename(\"seq_alltimes_data_{label}_{unique_id}.pdf\"))\n",
    "axes_fig7_model[0, 0].figure.savefig(dataio.create_formatted_filename(\"seq_alltimes_model_{label}_{unique_id}.pdf\"))\n"
   ]
  },
  {
   "cell_type": "code",
   "execution_count": null,
   "metadata": {
    "collapsed": true
   },
   "outputs": [],
   "source": []
  }
 ],
 "metadata": {
  "kernelspec": {
   "display_name": "Python 2",
   "language": "python",
   "name": "python2"
  },
  "language_info": {
   "codemirror_mode": {
    "name": "ipython",
    "version": 2
   },
   "file_extension": ".py",
   "mimetype": "text/x-python",
   "name": "python",
   "nbconvert_exporter": "python",
   "pygments_lexer": "ipython2",
   "version": "2.7.13"
  }
 },
 "nbformat": 4,
 "nbformat_minor": 1
}
